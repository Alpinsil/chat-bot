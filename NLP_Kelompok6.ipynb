{
  "nbformat": 4,
  "nbformat_minor": 0,
  "metadata": {
    "colab": {
      "name": "NLP-Kelompok6.ipynb",
      "provenance": [],
      "collapsed_sections": [],
      "authorship_tag": "ABX9TyOJr8gYvI39nOmHlP1m+CVr",
      "include_colab_link": true
    },
    "kernelspec": {
      "name": "python3",
      "display_name": "Python 3"
    },
    "language_info": {
      "name": "python"
    }
  },
  "cells": [
    {
      "cell_type": "markdown",
      "metadata": {
        "id": "view-in-github",
        "colab_type": "text"
      },
      "source": [
        "<a href=\"https://colab.research.google.com/github/Alpinsil/chat-bot/blob/main/NLP_Kelompok6.ipynb\" target=\"_parent\"><img src=\"https://colab.research.google.com/assets/colab-badge.svg\" alt=\"Open In Colab\"/></a>"
      ]
    },
    {
      "cell_type": "markdown",
      "source": [
        "#Chatbot Adaptasi Simsimi"
      ],
      "metadata": {
        "id": "Eb9bDMkP50Kr"
      }
    },
    {
      "cell_type": "code",
      "source": [
        "import json\n",
        "a = open('data.json')\n",
        "data = json.load(a)\n",
        "\n",
        "\n",
        "def bot():\n",
        "  while True:\n",
        "      print('''\n",
        "  1. Melatih Bot\n",
        "  2. Berbicara dengan Bot\n",
        "  3. Keluar\n",
        "  ''')\n",
        "      input_awal = input(\"Masukkan kode : \")\n",
        "      if input_awal == \"1\":\n",
        "          print('''\n",
        "          Menu 1 Melatih Bot dipilih\n",
        "          Ket : \n",
        "          user : maka anda akan memasukkan kata atau kalimat yang\n",
        "                menjadi kata kunci\n",
        "          Bot  : jawaban dari kata kunci yang dimasukkan\n",
        "          ketik keluar untuk kembali ke menu awal                   \n",
        "          ''')\n",
        "          while True:\n",
        "              x = input(\"User\\t: \")\n",
        "              if x == \"keluar\":\n",
        "                  break\n",
        "              else:\n",
        "                  y = input(\"Bot\\t: \")\n",
        "                  data[x] = y\n",
        "                  b = open('data.json',\"w\")\n",
        "                  json.dump(data,b)\n",
        "                  b.close()\n",
        "\n",
        "      elif input_awal == \"2\":\n",
        "          print('''\n",
        "          Menu 2 Berbicara dengan Bot dipilih\n",
        "          Ket : \n",
        "          user : masukkan kata atau kalimat anda\n",
        "          Bot  : jawaban dari bot\n",
        "          ketik keluar untuk kembali ke menu awal                   \n",
        "          ''')\n",
        "          while True:\n",
        "              x=input(\"User\\t: \")\n",
        "              if x == 'keluar':\n",
        "                  break\n",
        "              if x in data:\n",
        "                  print(f'Bot\\t: {data[x]}')\n",
        "              else:\n",
        "                  print(\"Bot\\t: Data kata tidak ditemukan\")\n",
        "\n",
        "      elif input_awal == \"3\":\n",
        "          print(\"Terimakasih telah mencoba program kami\")\n",
        "          break\n",
        "      else:\n",
        "          print(\"Maaf input yang dimasukkan tidak sesuai\")\n",
        "\n"
      ],
      "metadata": {
        "id": "E9kavy4lQGmA"
      },
      "execution_count": 1,
      "outputs": []
    },
    {
      "cell_type": "code",
      "source": [
        "bot()"
      ],
      "metadata": {
        "id": "0xLv3xZ5QjtF"
      },
      "execution_count": null,
      "outputs": []
    }
  ]
}